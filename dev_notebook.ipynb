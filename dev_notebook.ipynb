{
 "cells": [
  {
   "cell_type": "markdown",
   "id": "46ccd25f",
   "metadata": {},
   "source": [
    "# Open Space Organizer\n",
    "\n",
    "We want to create a program that assigns 24 people to 6 tables in an openspace. Before getting started, take inventory what do we need:\n",
    "\n",
    "- People\n",
    "- Seats & Tables\n",
    "- An OpenSpace\n",
    "\n",
    "It's a good practice to start simple while you grasp the logic of the program you are trying to build and test often. For us this can translate to,\n",
    "\n",
    "- People -> List of Names (later we can figure out how to use a file)\n",
    "- Seats & Tables -> Class\n",
    "- An OpenSpace -> Class\n",
    "\n",
    "Below I've created a list of your new colleagues for reference!"
   ]
  },
  {
   "cell_type": "code",
   "execution_count": 12,
   "id": "d2272fa0",
   "metadata": {},
   "outputs": [],
   "source": [
    "new_collegues = [\"Aleksei\",\"Amine\",\"Anna\",\"Astha\",\"Brigitta\",\n",
    "                 \"Bryan\",\"Ena\",\"Esra\",\"Faranges\",\"Frédéric\",\n",
    "                 \"Hamideh\",\"Héloïse\",\"Imran\",\"Intan K.\",\n",
    "                 \"Jens\",\"Kristin\",\"Michiel\",\"Nancy\",\"Pierrick\",\n",
    "                 \"Sandrine\",\"Tim\",\"Viktor\",\"Welederufeal\",\"Živilė\"]"
   ]
  },
  {
   "cell_type": "markdown",
   "id": "5331eef9",
   "metadata": {},
   "source": [
    "## Step 1: Build a Seat\n",
    "\n",
    "Create a class called `Seat` with two attributes:\n",
    "\n",
    "- `free` which is a boolean.\n",
    "- `occupant` which is a string.\n",
    "\n",
    "and 2 functions : \n",
    "\n",
    "- `set_occupant(name)` which allows the program to assign someone a seat if it's free\n",
    "- `remove_occupant()` which  remove someone from a seat and return the name of the person occupying the seat before\n"
   ]
  },
  {
   "cell_type": "code",
   "execution_count": 13,
   "id": "b2206876",
   "metadata": {},
   "outputs": [],
   "source": [
    "# Your code here\n",
    "\n",
    "class Seat: # Parent class\n",
    "    def __init__(self) -> None:\n",
    "        self.free = True\n",
    "        self.occupant = \"\"\n",
    "\n",
    "# Method to assign an occupant to a seat\n",
    "    def set_occupant(self, name):\n",
    "        if self.free == True:\n",
    "            self.occupant = name\n",
    "            self.free = False \n",
    "            #print(f\"The seat is now assigned to {self.occupant}\")\n",
    "        else: \n",
    "            print(\"The seat is already occupied\")\n",
    "\n",
    "# Method to remove an occupant and display it's name\n",
    "    def remove_occupant(self):\n",
    "        if self.free == False:\n",
    "            previous_occupant = self.occupant # Store the current occupant so we can return or display it after removing\n",
    "            self.occupant = \"\"\n",
    "            self.free =True\n",
    "            print(f\"The removed occupant is: {previous_occupant}\")\n",
    "        else:\n",
    "            print(\"The seat is already empty\")\n"
   ]
  },
  {
   "cell_type": "code",
   "execution_count": 14,
   "id": "97ec69ff",
   "metadata": {},
   "outputs": [
    {
     "name": "stdout",
     "output_type": "stream",
     "text": [
      "The removed occupant is: Zivile\n",
      "The removed occupant is: Ana\n",
      "The seat was assigned to Ana, who was then removed.\n"
     ]
    }
   ],
   "source": [
    "# Test your code (assign yourself you a Seat)\n",
    "seat1 = Seat()\n",
    "#seat2 = Seat()\n",
    "seat1.set_occupant('Zivile')\n",
    "#seat1.set_occupant('Ana')\n",
    "assigned_occupant = seat1.occupant # Give me the current value for occupant\n",
    "seat1.remove_occupant()\n",
    "#seat1.remove_occupant()\n",
    "seat1.set_occupant('Ana')\n",
    "assigned_occupant = seat1.occupant \n",
    "seat1.remove_occupant()\n",
    "\n",
    "print(f\"The seat was assigned to {assigned_occupant}, who was then removed.\")\n",
    "\n"
   ]
  },
  {
   "cell_type": "markdown",
   "id": "12d6834f",
   "metadata": {},
   "source": [
    "## Step 2: Build a Table\n",
    "\n",
    "Create a class `Table` with ? attributes:\n",
    "\n",
    "- `capacity` which is an integer\n",
    "- `seats` which is a list of `Seat` objects (size = `capacity`)\n",
    "\n",
    "and 3 functions : \n",
    "- `has_free_spot()` that returns a boolean (True if a spot is available)\n",
    "- `assign_seat(name)` that places someone at the table\n",
    "- `left_capacity()` that returns an integer\n",
    "\n",
    "Question: Which attributes make sense to give? For now let's say we want to build 6 tables with 4 seats.\n"
   ]
  },
  {
   "cell_type": "code",
   "execution_count": 21,
   "id": "d64b76c8",
   "metadata": {},
   "outputs": [],
   "source": [
    "# Your code here\n",
    "# from seat import Seat???\n",
    "\n",
    "class Table:\n",
    "    def __init__(self, capacity: int) -> None:\n",
    "        self.capacity = 4\n",
    "        self.seats = [Seat() for i in range (self.capacity)] # makes one Seat() for each seat position, based on table capacity\n",
    "        \n",
    "\n",
    "    def has_free_spot(self) -> bool:\n",
    "        for seat in self.seats: # looks at each Seat object in the table\n",
    "            if seat.free:\n",
    "                #print(\"The table has at least one free spot.\")\n",
    "                return True\n",
    "        #print(\"The table has no free spots left.\")\n",
    "        return False\n",
    "        \n",
    "            \n",
    "    def assign_seat(self, name) -> bool: # I will assign a seat object (which is a free seat) to someone \n",
    "        for seat in self.seats:\n",
    "            if seat.free:\n",
    "                seat.set_occupant(name)\n",
    "                return True\n",
    "        #print(f\"There is no more space available. Sorry, {name}!\")\n",
    "        return False\n",
    "\n",
    "\n",
    "    def left_capacity(self) -> int: # Will tell how many seats are free\n",
    "        count = 0                   # start with zero free seats\n",
    "        for seat in self.seats:     # goes through every Seat object in the table \n",
    "            if seat.free:\n",
    "                count += 1\n",
    "        #print(f\"There are {count} spaces left.\")\n",
    "        return count                # gives back the total number of free seats\n",
    "\n"
   ]
  },
  {
   "cell_type": "code",
   "execution_count": 22,
   "id": "108ce578",
   "metadata": {},
   "outputs": [
    {
     "data": {
      "text/plain": [
       "0"
      ]
     },
     "execution_count": 22,
     "metadata": {},
     "output_type": "execute_result"
    }
   ],
   "source": [
    "# Test your code (assign the colleagues at your table to a Table)\n",
    "table = Table(4)\n",
    "table.assign_seat('Zivile') \n",
    "table.left_capacity() \n",
    "table.assign_seat('Ana') \n",
    "table.left_capacity()    \n",
    "table.assign_seat('Bob')  \n",
    "table.left_capacity()   \n",
    "table.assign_seat('Charlie')\n",
    "table.left_capacity()\n",
    "table.assign_seat('Billie')\n",
    "table.has_free_spot()\n",
    "\n",
    "table.left_capacity()"
   ]
  },
  {
   "cell_type": "markdown",
   "id": "75f177c6",
   "metadata": {},
   "source": [
    "Does the output of you test make sense? Check that each method returns the correct value."
   ]
  },
  {
   "cell_type": "markdown",
   "id": "5b395b9e",
   "metadata": {},
   "source": [
    "## Step 3: Build an OpenSpace\n",
    "\n",
    "Create a class `Openspace` that contains these attributes:\n",
    "\n",
    "- `tables`: a list of `Table` objects. (Requires importing Table from table.py.)\n",
    "- `number_of_tables`: an integer representing the total count of tables.\n",
    "\n",
    "And some methods:\n",
    "\n",
    "- `organize(names)` that will:\n",
    "  - **randomly** assign people to `Seat` objects in the different `Table` objects.\n",
    "- `display()` display the different tables and there occupants in a nice and readable way\n",
    "- `store(filename)` store the repartition in an file"
   ]
  },
  {
   "cell_type": "code",
   "execution_count": null,
   "id": "1eed7151",
   "metadata": {},
   "outputs": [],
   "source": [
    "# Your code here\n",
    "import random\n",
    "# from table import Table\n",
    "# from seat import Seat\n",
    "\n",
    "class Openspace:\n",
    "    def __init__(self, number_of_tables: int):\n",
    "        self.number_of_tables = 6\n",
    "        self.tables = [Table(6) for i in range (self.number_of_tables)] # Creates a list of Table objects, each with 6 seats\n",
    "        \n",
    "        \n",
    "# This code loops through all the tables to check if there are available spots\n",
    "# and adds tables with free spots to the list 'free_tables'  \n",
    "    def organize(self, names):\n",
    "        for name in names:\n",
    "            free_tables = []\n",
    "            for table in self.tables:\n",
    "                if table.has_free_spot():\n",
    "                    free_tables.append(table)\n",
    "                    \n",
    "            if free_tables:\n",
    "                random.shuffle(free_tables)\n",
    "                chosen_table = free_tables[0]\n",
    "                chosen_table.assign_seat(name)\n",
    "            else:\n",
    "                print(\"There are no free spots left.\")\n",
    "\n",
    "    def display(self):\n",
    "        table_number = 1\n",
    "        for table in self.tables:\n",
    "            occupants = []\n",
    "            for seat in table.seats:\n",
    "                if not seat.free:\n",
    "                    occupants.append(seat.occupant)\n",
    "\n",
    "            if occupants:\n",
    "                print(f\"Table {table_number}: {', '.join(occupants)}\")\n",
    "            else:\n",
    "                print(f\"Table {table_number}: Empty\")\n",
    "            \n",
    "            table_number += 1\n",
    "\n",
    "    def store(self, filename):\n",
    "        \n",
    "        with open(filename, 'w') as file:\n",
    "            for i, table in enumerate(self.tables, start=1):\n",
    "                occupants = []\n",
    "                for seat in table.seats:\n",
    "                    if not seat.free:\n",
    "                        occupants.append(seat.occupant)\n",
    "                if occupants:\n",
    "                    line = f\"Table {i}:{', '.join(occupants)}\\n\"\n",
    "                else:\n",
    "                    line = f\"Table {i}: Empty\\n\"\n",
    "\n",
    "                file.write(line)\n",
    "\n",
    "\n"
   ]
  },
  {
   "cell_type": "code",
   "execution_count": 18,
   "id": "6c20824f",
   "metadata": {},
   "outputs": [
    {
     "name": "stdout",
     "output_type": "stream",
     "text": [
      "Table 1: Aleksei, Anna, Bryan, Pierrick\n",
      "Table 2: Imran, Michiel, Tim, Živilė\n",
      "Table 3: Astha, Frédéric, Jens, Kristin\n",
      "Table 4: Amine, Hamideh, Héloïse, Sandrine\n",
      "Table 5: Intan K., Nancy, Viktor, Welederufeal\n",
      "Table 6: Brigitta, Ena, Esra, Faranges\n"
     ]
    }
   ],
   "source": [
    "# Test your code (assign everyone in the class to a table)\n",
    "office = Openspace(6)\n",
    "new_collegues = [\"Aleksei\",\"Amine\",\"Anna\",\"Astha\",\"Brigitta\",\n",
    "                 \"Bryan\",\"Ena\",\"Esra\",\"Faranges\",\"Frédéric\",\n",
    "                 \"Hamideh\",\"Héloïse\",\"Imran\",\"Intan K.\",\n",
    "                 \"Jens\",\"Kristin\",\"Michiel\",\"Nancy\",\"Pierrick\",\n",
    "                 \"Sandrine\",\"Tim\",\"Viktor\",\"Welederufeal\",\"Živilė\"]\n",
    "\n",
    "office.organize(new_collegues)\n",
    "office.display()\n",
    "office.store(\"seating.txt\")"
   ]
  }
 ],
 "metadata": {
  "kernelspec": {
   "display_name": "base",
   "language": "python",
   "name": "python3"
  },
  "language_info": {
   "codemirror_mode": {
    "name": "ipython",
    "version": 3
   },
   "file_extension": ".py",
   "mimetype": "text/x-python",
   "name": "python",
   "nbconvert_exporter": "python",
   "pygments_lexer": "ipython3",
   "version": "3.13.5"
  }
 },
 "nbformat": 4,
 "nbformat_minor": 5
}
