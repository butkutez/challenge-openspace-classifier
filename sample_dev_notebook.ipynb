{
 "cells": [
  {
   "cell_type": "markdown",
   "id": "46ccd25f",
   "metadata": {},
   "source": [
    "# Open Space Organizer\n",
    "\n",
    "We want to create a program that assigns 24 people to 6 tables in an openspace. Before getting started, take inventory what do we need:\n",
    "\n",
    "- People\n",
    "- Seats & Tables\n",
    "- An OpenSpace\n",
    "\n",
    "It's a good practice to start simple while you grasp the logic of the program you are trying to build and test often. For us this can translate to,\n",
    "\n",
    "- People -> List of Names (later we can figure out how to use a file)\n",
    "- Seats & Tables -> Class\n",
    "- An OpenSpace -> Class\n",
    "\n",
    "Below I've created a list of your new colleagues for reference!"
   ]
  },
  {
   "cell_type": "code",
   "execution_count": null,
   "id": "d2272fa0",
   "metadata": {},
   "outputs": [],
   "source": [
    "new_collegues = [\"Aleksei\",\"Amine\",\"Anna\",\"Astha\",\"Brigitta\",\n",
    "                 \"Bryan\",\"Ena\",\"Esra\",\"Faranges\",\"Frédéric\",\n",
    "                 \"Hamideh\",\"Héloïse\",\"Imran\",\"Intan K.\",\n",
    "                 \"Jens\",\"Kristin\",\"Michiel\",\"Nancy\",\"Pierrick\",\n",
    "                 \"Sandrine\",\"Tim\",\"Viktor\",\"Welederufeal\",\"Živile\"]"
   ]
  },
  {
   "cell_type": "markdown",
   "id": "5331eef9",
   "metadata": {},
   "source": [
    "## Step 1: Build a Seat\n",
    "\n",
    "Create a class called `Seat` with two attributes:\n",
    "\n",
    "- `free` which is a boolean.\n",
    "- `occupant` which is a string.\n",
    "\n",
    "and 2 functions : \n",
    "\n",
    "- `set_occupant(name)` which allows the program to assign someone a seat if it's free\n",
    "- `remove_occupant()` which  remove someone from a seat and return the name of the person occupying the seat before\n"
   ]
  },
  {
   "cell_type": "code",
   "execution_count": null,
   "id": "b2206876",
   "metadata": {},
   "outputs": [],
   "source": [
    "# Your code here"
   ]
  },
  {
   "cell_type": "code",
   "execution_count": null,
   "id": "97ec69ff",
   "metadata": {},
   "outputs": [],
   "source": [
    "# Test your code (assign yourself you a Seat)\n"
   ]
  },
  {
   "cell_type": "markdown",
   "id": "12d6834f",
   "metadata": {},
   "source": [
    "What is the input and the output of your Seat class? Does it make sense?\n",
    "\n",
    "## Step 2: Build a Table\n",
    "\n",
    "Create a class `Table` with ? attributes:\n",
    "\n",
    "- `capacity` which is an integer\n",
    "- `seats` which is a list of `Seat` objects (size = `capacity`)\n",
    "\n",
    "and 3 functions : \n",
    "- `has_free_spot()` that returns a boolean (True if a spot is available)\n",
    "- `assign_seat(name)` that places someone at the table\n",
    "- `left_capacity()` that returns an integer\n",
    "\n",
    "Question: Which attributes make sense to give? For now let's say we want to build 6 tables with 4 seats.\n"
   ]
  },
  {
   "cell_type": "code",
   "execution_count": null,
   "id": "d64b76c8",
   "metadata": {},
   "outputs": [],
   "source": [
    "# Your code here"
   ]
  },
  {
   "cell_type": "code",
   "execution_count": null,
   "id": "108ce578",
   "metadata": {},
   "outputs": [],
   "source": [
    "# Test your code (assign the colleagues at your table to a Table)"
   ]
  },
  {
   "cell_type": "markdown",
   "id": "75f177c6",
   "metadata": {},
   "source": [
    "Does the output of you test make sense? Check that each method returns the correct value."
   ]
  },
  {
   "cell_type": "markdown",
   "id": "5b395b9e",
   "metadata": {},
   "source": [
    "## Step 3: Build an OpenSpace\n",
    "\n",
    "Create a class `Openspace` that contains these attributes:\n",
    "\n",
    "- `tables` which is a list of `Table`. _(you will need to import `Table` from `table.py`)_. \n",
    "- `number_of_tables` which is an integer.\n",
    "\n",
    "And some methods:\n",
    "\n",
    "- `organize(names)` that will:\n",
    "  - **randomly** assign people to `Seat` objects in the different `Table` objects.\n",
    "- `display()` display the different tables and there occupants in a nice and readable way\n",
    "- `store(filename)` store the repartition in an file"
   ]
  },
  {
   "cell_type": "code",
   "execution_count": null,
   "id": "1eed7151",
   "metadata": {},
   "outputs": [],
   "source": [
    "# Your code here"
   ]
  },
  {
   "cell_type": "code",
   "execution_count": null,
   "id": "6c20824f",
   "metadata": {},
   "outputs": [],
   "source": [
    "# Test your code (assign everyone in the class to a table)"
   ]
  },
  {
   "cell_type": "markdown",
   "id": "0d3923a8",
   "metadata": {},
   "source": [
    "Hurray! You have the algorithm logic working. Next steps we transform this into some scripts! **Big note:** Once you move to the scrips you may need to adapt your logic, don't fret this is normal!"
   ]
  }
 ],
 "metadata": {
  "language_info": {
   "name": "python"
  }
 },
 "nbformat": 4,
 "nbformat_minor": 5
}
