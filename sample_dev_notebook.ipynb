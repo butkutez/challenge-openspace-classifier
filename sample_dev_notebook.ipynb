{
 "cells": [
  {
   "cell_type": "markdown",
   "id": "46ccd25f",
   "metadata": {},
   "source": [
    "# Open Space Organizer\n",
    "\n",
    "We want to create a program that assigns 24 people to 6 tables in an openspace. Before getting started, take inventory what do we need:\n",
    "\n",
    "- People\n",
    "- Seats & Tables\n",
    "- An OpenSpace\n",
    "\n",
    "It's a good practice to start simple while you grasp the logic of the program you are trying to build and test often. For us this can translate to,\n",
    "\n",
    "- People -> List of Names (later we can figure out how to use a file)\n",
    "- Seats & Tables -> Class\n",
    "- An OpenSpace -> Class\n",
    "\n",
    "Below I've created a list of your new colleagues for reference!"
   ]
  },
  {
   "cell_type": "code",
   "execution_count": null,
   "id": "d2272fa0",
   "metadata": {},
   "outputs": [],
   "source": [
    "new_collegues = [\"Aleksei\",\"Amine\",\"Anna\",\"Astha\",\"Brigitta\",\n",
    "                 \"Bryan\",\"Ena\",\"Esra\",\"Faranges\",\"Frédéric\",\n",
    "                 \"Hamideh\",\"Héloïse\",\"Imran\",\"Intan K.\",\n",
    "                 \"Jens\",\"Kristin\",\"Michiel\",\"Nancy\",\"Pierrick\",\n",
    "                 \"Sandrine\",\"Tim\",\"Viktor\",\"Welederufeal\",\"Živile\"]"
   ]
  },
  {
   "cell_type": "markdown",
   "id": "5331eef9",
   "metadata": {},
   "source": [
    "## Step 1: Build a Seat\n",
    "\n",
    "Create a class called `Seat` with two attributes:\n",
    "\n",
    "- `free` which is a boolean.\n",
    "- `occupant` which is a string.\n",
    "\n",
    "and 2 functions : \n",
    "\n",
    "- `set_occupant(name)` which allows the program to assign someone a seat if it's free\n",
    "- `remove_occupant()` which  remove someone from a seat and return the name of the person occupying the seat before\n"
   ]
  },
  {
   "cell_type": "code",
   "execution_count": 36,
   "id": "b2206876",
   "metadata": {},
   "outputs": [],
   "source": [
    "# Your code here\n",
    "\n",
    "# or write def __init__(self) -> None:\n",
    "# self.occupant = \"\"\n",
    "# self.occupant = str\n",
    "\n",
    "class Seat: # Parent class\n",
    "    def __init__(self) -> None:\n",
    "        self.free = True\n",
    "        self.occupant = \"\"\n",
    "\n",
    "# Method to assign an occupant to a seat\n",
    "    def set_occupant(self, name):\n",
    "        if self.free == True:\n",
    "            self.occupant = name\n",
    "            self.free = False \n",
    "            print(f\"The seat is now assigned to {self.occupant}\")\n",
    "        else: \n",
    "            print(\"The seat is already occupied\")\n",
    "\n",
    "# Method to remove an occupant and display it's name\n",
    "    def remove_occupant(self):\n",
    "        if not self.occupant == None and self.free == False:\n",
    "            previous_occupant = self.occupant\n",
    "            self.occupant = None\n",
    "            self.free =True\n",
    "            print(f\"The removed occupant is: {previous_occupant}\")\n",
    "\n"
   ]
  },
  {
   "cell_type": "code",
   "execution_count": null,
   "id": "97ec69ff",
   "metadata": {},
   "outputs": [
    {
     "name": "stdout",
     "output_type": "stream",
     "text": [
      "The seat is now assigned to Zivile\n",
      "The seat is already occupied\n"
     ]
    }
   ],
   "source": [
    "# Test your code (assign yourself you a Seat)\n",
    "my_seat = Seat()\n",
    "assigned_occupant = my_seat.set_occupant('Zivile')\n",
    "assigned_occupant = my_seat.set_occupant('Ana')\n",
    "#my_seat.remove_occupant()\n",
    "#print(f\"The seat was assigned to {assigned_occupant}, who was then removed.\")\n",
    "\n"
   ]
  },
  {
   "cell_type": "markdown",
   "id": "bb7ac769",
   "metadata": {},
   "source": []
  },
  {
   "cell_type": "markdown",
   "id": "12d6834f",
   "metadata": {},
   "source": [
    "What is the input and the output of your Seat class? Does it make sense?\n",
    "\n",
    "## Step 2: Build a Table\n",
    "\n",
    "Create a class `Table` with ? attributes:\n",
    "\n",
    "- `capacity` which is an integer\n",
    "- `seats` which is a list of `Seat` objects (size = `capacity`)\n",
    "\n",
    "and 3 functions : \n",
    "- `has_free_spot()` that returns a boolean (True if a spot is available)\n",
    "- `assign_seat(name)` that places someone at the table\n",
    "- `left_capacity()` that returns an integer\n",
    "\n",
    "Question: Which attributes make sense to give? For now let's say we want to build 6 tables with 4 seats.\n"
   ]
  },
  {
   "cell_type": "code",
   "execution_count": null,
   "id": "d64b76c8",
   "metadata": {},
   "outputs": [],
   "source": [
    "# Your code here\n",
    "import random\n",
    "\n",
    "class Table:\n",
    "    def __init__(self, capacity: int):\n",
    "        self.capacity = 4\n",
    "        self.seats = [Seat() for i in range (self.capacity)] # makes one Seat() for each seat position, based on table capacity\n",
    "\n",
    "    def has_free_spot(self):\n",
    "        for seat in self.seats: # looks at each Seat object in the table\n",
    "            if seat.free:\n",
    "                return True\n",
    "        return False\n",
    "            \n",
    "    def assign_seat(self, name): # I will assign a seat object (which is a free seat) to someone \n",
    "        free_seats = []\n",
    "        for seat in self.seats:\n",
    "            if seat.free:\n",
    "                free_seats.append(seat) # Adds a free seat to the 'free_seats' list\n",
    "\n",
    "        if free_seats:\n",
    "            random.shuffle(free_seats) # shuffle the list in place \n",
    "            chosen_seat = free_seats[0] # pick the first one after shuffle\n",
    "            chosen_seat.set_occupant(name) # calling set_occupant function\n",
    "\n",
    "        else:\n",
    "            print(f\"No free seats available {name}\")\n",
    "\n",
    "    def left_capacity(self) -> int: # Will tell how many seats are free\n",
    "\n",
    "        count = 0                   # start with zero free seats\n",
    "        for seat in self.seats:     # goes through every Seat object in the table \n",
    "            if seat.free:\n",
    "                count += 1\n",
    "        return count                # gives back the total number of free seats\n",
    "\n"
   ]
  },
  {
   "cell_type": "code",
   "execution_count": 50,
   "id": "108ce578",
   "metadata": {},
   "outputs": [
    {
     "name": "stdout",
     "output_type": "stream",
     "text": [
      "The seat is now assigned to Zivile\n",
      "The seat is now assigned to Ana\n",
      "The seat is now assigned to Bob\n",
      "The seat is now assigned to Charlie\n",
      "No free seats available Billie\n"
     ]
    },
    {
     "data": {
      "text/plain": [
       "0"
      ]
     },
     "execution_count": 50,
     "metadata": {},
     "output_type": "execute_result"
    }
   ],
   "source": [
    "# Test your code (assign the colleagues at your table to a Table)\n",
    "table = Table(4)\n",
    "table.assign_seat('Zivile')  \n",
    "table.assign_seat('Ana')     \n",
    "table.assign_seat('Bob')     \n",
    "table.assign_seat('Charlie')\n",
    "table.assign_seat('Billie')\n",
    "\n",
    "table.left_capacity()"
   ]
  },
  {
   "cell_type": "markdown",
   "id": "75f177c6",
   "metadata": {},
   "source": [
    "Does the output of you test make sense? Check that each method returns the correct value."
   ]
  },
  {
   "cell_type": "markdown",
   "id": "5b395b9e",
   "metadata": {},
   "source": [
    "## Step 3: Build an OpenSpace\n",
    "\n",
    "Create a class `Openspace` that contains these attributes:\n",
    "\n",
    "- `tables` which is a list of `Table`. _(you will need to import `Table` from `table.py`)_. \n",
    "- `number_of_tables` which is an integer.\n",
    "\n",
    "And some methods:\n",
    "\n",
    "- `organize(names)` that will:\n",
    "  - **randomly** assign people to `Seat` objects in the different `Table` objects.\n",
    "- `display()` display the different tables and there occupants in a nice and readable way\n",
    "- `store(filename)` store the repartition in an file"
   ]
  },
  {
   "cell_type": "code",
   "execution_count": null,
   "id": "1eed7151",
   "metadata": {},
   "outputs": [],
   "source": [
    "# Your code here\n",
    "# import random\n",
    "# from table import Table\n",
    "\n",
    "class Openspace:\n",
    "    def __init__(self, number_of_tables: int):\n",
    "        self.number_of_tables = 6\n",
    "\n",
    "        self.tables = []\n",
    "        for i in range(self.number_of_tables):\n",
    "            table = Table() # creates a new Table object\n",
    "            self.tables.append(table) # adds it to the list of tables\n",
    "        \n",
    "    def organize(self, name):\n",
    "        for name in names:\n",
    "            free_tables = []\n",
    "            for table in self.tables:\n",
    "                if table.has_free_spot():\n",
    "                    free_tables.append(table)\n",
    "\n",
    "\n",
    "    def display(self):\n",
    "\n",
    "    def store(filename):\n",
    "\n",
    "\n"
   ]
  },
  {
   "cell_type": "code",
   "execution_count": null,
   "id": "6c20824f",
   "metadata": {},
   "outputs": [],
   "source": [
    "# Test your code (assign everyone in the class to a table)"
   ]
  },
  {
   "cell_type": "markdown",
   "id": "0d3923a8",
   "metadata": {},
   "source": [
    "Hurray! You have the algorithm logic working. Next steps we transform this into some scripts! **Big note:** Once you move to the scrips you may need to adapt your logic, don't fret this is normal!"
   ]
  }
 ],
 "metadata": {
  "kernelspec": {
   "display_name": "base",
   "language": "python",
   "name": "python3"
  },
  "language_info": {
   "codemirror_mode": {
    "name": "ipython",
    "version": 3
   },
   "file_extension": ".py",
   "mimetype": "text/x-python",
   "name": "python",
   "nbconvert_exporter": "python",
   "pygments_lexer": "ipython3",
   "version": "3.13.5"
  }
 },
 "nbformat": 4,
 "nbformat_minor": 5
}
